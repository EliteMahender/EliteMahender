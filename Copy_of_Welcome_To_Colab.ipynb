{
  "cells": [
    {
      "cell_type": "code",
      "source": [],
      "metadata": {
        "id": "1xxY6wN3RFv0"
      },
      "execution_count": null,
      "outputs": []
    },
    {
      "cell_type": "code",
      "source": [
        "#program to find no of charactor\n",
        "count=0\n",
        "val = input('enter :')\n",
        "val2 = input('enter which charter do yoou want to find :')\n",
        "if val2 in val :\n",
        "  count+=1\n",
        "print(count\n",
        "\n",
        "      )"
      ],
      "metadata": {
        "id": "FLfOlEZc-qHB",
        "outputId": "35387e2b-fa20-42e6-b027-fc30a16bdd85",
        "colab": {
          "base_uri": "https://localhost:8080/"
        }
      },
      "execution_count": null,
      "outputs": [
        {
          "output_type": "stream",
          "name": "stdout",
          "text": [
            "enter :13232132132132\n",
            "enter which charter do yoou want to find :1\n",
            "1\n"
          ]
        }
      ]
    },
    {
      "cell_type": "code",
      "execution_count": 6,
      "metadata": {
        "id": "zwFnJsE6vjf8",
        "outputId": "171aa7b4-2989-4ce5-a33c-89ac19e79885",
        "colab": {
          "base_uri": "https://localhost:8080/",
          "height": 193
        }
      },
      "outputs": [
        {
          "name": "stdout",
          "output_type": "stream",
          "text": [
            "enetr your number: 6\n"
          ]
        },
        {
          "output_type": "error",
          "ename": "TypeError",
          "evalue": "'int' object is not subscriptable",
          "traceback": [
            "\u001b[0;31m---------------------------------------------------------------------------\u001b[0m",
            "\u001b[0;31mTypeError\u001b[0m                                 Traceback (most recent call last)",
            "\u001b[0;32m<ipython-input-6-a44c1876a241>\u001b[0m in \u001b[0;36m<cell line: 13>\u001b[0;34m()\u001b[0m\n\u001b[1;32m     11\u001b[0m \u001b[0;34m\u001b[0m\u001b[0m\n\u001b[1;32m     12\u001b[0m \u001b[0ma\u001b[0m\u001b[0;34m=\u001b[0m\u001b[0mfact\u001b[0m\u001b[0;34m(\u001b[0m\u001b[0;34m)\u001b[0m\u001b[0;34m\u001b[0m\u001b[0;34m\u001b[0m\u001b[0m\n\u001b[0;32m---> 13\u001b[0;31m \u001b[0mprint\u001b[0m\u001b[0;34m(\u001b[0m\u001b[0;34m\"factorial of {} is {}\"\u001b[0m\u001b[0;34m.\u001b[0m\u001b[0mformat\u001b[0m\u001b[0;34m(\u001b[0m\u001b[0ma\u001b[0m\u001b[0;34m[\u001b[0m\u001b[0;36m0\u001b[0m\u001b[0;34m]\u001b[0m\u001b[0;34m,\u001b[0m\u001b[0ma\u001b[0m\u001b[0;34m)\u001b[0m\u001b[0;34m)\u001b[0m\u001b[0;34m\u001b[0m\u001b[0;34m\u001b[0m\u001b[0m\n\u001b[0m",
            "\u001b[0;31mTypeError\u001b[0m: 'int' object is not subscriptable"
          ]
        }
      ],
      "source": [
        "# function of factorial\n",
        "def fact() :\n",
        "  val=int (input('enetr your number: '))\n",
        "  fct=1\n",
        "  i=1\n",
        "  while i in range(val+1) :\n",
        "    fct*=i\n",
        "    i+=1\n",
        "  #print(fct)\n",
        "  return fct\n",
        "\n",
        "a=fact()\n",
        "print(\"factorial of {} is {}\".format(a[0\n",
        "\n",
        "\n",
        "\n",
        "\n",
        "                                       ],a))"
      ]
    },
    {
      "cell_type": "code",
      "source": [
        "# mini project type\n",
        "def add(x,y):\n",
        "  sum=x+y\n",
        "  print(sum)\n",
        "\n",
        "def subtract(x,y):\n",
        "  sub=x-y\n",
        "  prin(sub)\n",
        "\n",
        "def mulpl(x,y) :\n",
        "  mult= x*y\n",
        "  print(mult)\n",
        "\n",
        "def div(x,y) :\n",
        "  di=x/y\n",
        "  print(di)\n",
        "\n",
        "chh=input('enter your choice : \\n1>addition\\n2>subtraction\\n3>multiplication\\n4>divition')\n",
        "a=int(input('enter a:'))\n",
        "b=int(input('enter b:'))\n",
        "if chh== '1' :\n",
        "  add(a,b)\n",
        "\n",
        "if chh=='2':\n",
        "  subtract(a,b)\n",
        "if chh=='3':\n",
        "  mulpl(a,b)\n",
        "if chh=='4' :\n",
        "  div(a,b)"
      ],
      "metadata": {
        "id": "ktZFTqnbN4DY"
      },
      "execution_count": null,
      "outputs": []
    },
    {
      "cell_type": "code",
      "source": [
        "# code of febunacii series\n",
        "def febunacci(n) :\n",
        "  lst=[]\n",
        "  a=0\n",
        "  b=1\n",
        "  lst.append(a)\n",
        "  lst.append(b)\n",
        "  for i in range(n-2):\n",
        "    c=a+b\n",
        "    lst.append(c)\n",
        "    a=b\n",
        "    b=c\n",
        "  print(lst)\n",
        "\n",
        "\n",
        "\n",
        "\n",
        "\n",
        "\n",
        "\n",
        "\n",
        "\n",
        "\n",
        "\n",
        "\n",
        "\n",
        "\n",
        "\n",
        "\n",
        "\n",
        "\n",
        "\n",
        "\n",
        "n=int(input('enter how much fubunacii do you want :'))\n",
        "febunacci(n)\n",
        "\n",
        "\n"
      ],
      "metadata": {
        "colab": {
          "base_uri": "https://localhost:8080/"
        },
        "collapsed": true,
        "id": "fhWj-bZYFl1J",
        "outputId": "992358d7-36d4-4a6c-ebf1-ac5b79fed906"
      },
      "execution_count": 24,
      "outputs": [
        {
          "output_type": "stream",
          "name": "stdout",
          "text": [
            "enter how much fubunacii do you want :69\n",
            "[0, 1, 1, 2, 3, 5, 8, 13, 21, 34, 55, 89, 144, 233, 377, 610, 987, 1597, 2584, 4181, 6765, 10946, 17711, 28657, 46368, 75025, 121393, 196418, 317811, 514229, 832040, 1346269, 2178309, 3524578, 5702887, 9227465, 14930352, 24157817, 39088169, 63245986, 102334155, 165580141, 267914296, 433494437, 701408733, 1134903170, 1836311903, 2971215073, 4807526976, 7778742049, 12586269025, 20365011074, 32951280099, 53316291173, 86267571272, 139583862445, 225851433717, 365435296162, 591286729879, 956722026041, 1548008755920, 2504730781961, 4052739537881, 6557470319842, 10610209857723, 17167680177565, 27777890035288, 44945570212853, 72723460248141]\n"
          ]
        }
      ]
    }
  ],
  "metadata": {
    "colab": {
      "toc_visible": true,
      "provenance": []
    },
    "kernelspec": {
      "display_name": "Python 3",
      "name": "python3"
    }
  },
  "nbformat": 4,
  "nbformat_minor": 0
}